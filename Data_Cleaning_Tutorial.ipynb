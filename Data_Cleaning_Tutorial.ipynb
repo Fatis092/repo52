{
  "nbformat": 4,
  "nbformat_minor": 0,
  "metadata": {
    "colab": {
      "provenance": [],
      "include_colab_link": true
    },
    "kernelspec": {
      "name": "python3",
      "display_name": "Python 3"
    },
    "language_info": {
      "name": "python"
    }
  },
  "cells": [
    {
      "cell_type": "markdown",
      "metadata": {
        "id": "view-in-github",
        "colab_type": "text"
      },
      "source": [
        "<a href=\"https://colab.research.google.com/github/Fatis092/repo52/blob/main/Data_Cleaning_Tutorial.ipynb\" target=\"_parent\"><img src=\"https://colab.research.google.com/assets/colab-badge.svg\" alt=\"Open In Colab\"/></a>"
      ]
    },
    {
      "cell_type": "code",
      "execution_count": 54,
      "metadata": {
        "id": "K1F-oY4BI45P"
      },
      "outputs": [],
      "source": [
        "import pandas as pd\n",
        "import numpy as np\n",
        "import pandas as pd\n",
        "import numpy as np\n",
        "from sklearn.model_selection import train_test_split\n",
        "from sklearn.ensemble import RandomForestRegressor\n",
        "from sklearn.metrics import mean_absolute_error\n",
        "from sklearn.impute import SimpleImputer"
      ]
    },
    {
      "cell_type": "markdown",
      "source": [
        "# Loading the dataset"
      ],
      "metadata": {
        "id": "BzrLQRRGTdu1"
      }
    },
    {
      "cell_type": "code",
      "source": [
        "df=pd.read_csv('/content/drive/MyDrive/Colab Notebooks/Titanic-Dataset.csv')"
      ],
      "metadata": {
        "id": "bc3UPU7AKzKG"
      },
      "execution_count": 53,
      "outputs": []
    },
    {
      "cell_type": "code",
      "source": [
        "from google.colab import drive\n",
        "drive.mount('/content/drive')"
      ],
      "metadata": {
        "id": "r1a4rGXQM89b",
        "outputId": "c06b2315-b6fb-49cd-be15-ff7f7b8ae8b0",
        "colab": {
          "base_uri": "https://localhost:8080/"
        }
      },
      "execution_count": 50,
      "outputs": [
        {
          "output_type": "stream",
          "name": "stdout",
          "text": [
            "Drive already mounted at /content/drive; to attempt to forcibly remount, call drive.mount(\"/content/drive\", force_remount=True).\n"
          ]
        }
      ]
    },
    {
      "cell_type": "markdown",
      "source": [
        "# Handling Null Values"
      ],
      "metadata": {
        "id": "0OFnt7E-Tkgb"
      }
    },
    {
      "cell_type": "code",
      "source": [
        "# Check for null values (1 line)\n",
        "df.isnull().sum()\n",
        "\n",
        "# Fill null values for 'Embarked' with the mode(1 line)\n",
        "df['Embarked'].fillna(df['Embarked'].mode()[0], inplace=True)\n",
        "df.isnull().sum()\n",
        "# Drop rows with null values in 'Cabin' (or alternatively, you can fill it with a placeholder) (1 line)\n",
        "\n"
      ],
      "metadata": {
        "id": "tCRLPInPK3ro",
        "outputId": "5907012c-a159-418e-df07-938dbc737f1a",
        "colab": {
          "base_uri": "https://localhost:8080/"
        }
      },
      "execution_count": 58,
      "outputs": [
        {
          "output_type": "execute_result",
          "data": {
            "text/plain": [
              "PassengerId      0\n",
              "Survived         0\n",
              "Pclass           0\n",
              "Name             0\n",
              "Sex              0\n",
              "Age            177\n",
              "SibSp            0\n",
              "Parch            0\n",
              "Ticket           0\n",
              "Fare             0\n",
              "Cabin          687\n",
              "Embarked         0\n",
              "dtype: int64"
            ]
          },
          "metadata": {},
          "execution_count": 58
        }
      ]
    },
    {
      "cell_type": "markdown",
      "source": [
        "# Handling Duplicates"
      ],
      "metadata": {
        "id": "ymFhv83FV80H"
      }
    },
    {
      "cell_type": "code",
      "source": [
        "# Check for duplicates (1 line)\n",
        "df.duplicated().sum()\n",
        "\n",
        "# Drop duplicates if any (1 line)\n",
        "\n"
      ],
      "metadata": {
        "colab": {
          "base_uri": "https://localhost:8080/"
        },
        "id": "HzmNbIDuLmEw",
        "outputId": "4fd47f70-cbef-4d2b-c5b3-9b982daae822"
      },
      "execution_count": 60,
      "outputs": [
        {
          "output_type": "execute_result",
          "data": {
            "text/plain": [
              "0"
            ]
          },
          "metadata": {},
          "execution_count": 60
        }
      ]
    },
    {
      "cell_type": "markdown",
      "source": [
        "# Handling Outliers"
      ],
      "metadata": {
        "id": "RkPW85MbV_8v"
      }
    },
    {
      "cell_type": "code",
      "source": [
        "import numpy as np\n",
        "\n",
        "# Function to remove outliers using the IQR method\n",
        "def remove_outliers(df, column):\n",
        "    Q1 = df[column].quantile(0.25)\n",
        "    Q3 = df[column].quantile(0.75)\n",
        "    IQR = Q3 - Q1\n",
        "    lower_bound = Q1 - 1.5 * IQR\n",
        "    upper_bound = Q3 + 1.5 * IQR\n",
        "    return df[(df[column] >= lower_bound) & (df[column] <= upper_bound)]\n",
        "\n",
        "# Remove outliers from 'Fare' using the remove_outilers function (1 line)\n",
        "\n",
        "df=remove_outliers(df,'Fare')\n"
      ],
      "metadata": {
        "id": "NsffaZ2DL06B"
      },
      "execution_count": 65,
      "outputs": []
    },
    {
      "cell_type": "markdown",
      "source": [
        "# Scaling and Normalization"
      ],
      "metadata": {
        "id": "kOTEDjprUiwc"
      }
    },
    {
      "cell_type": "code",
      "source": [
        "from sklearn.preprocessing import StandardScaler, MinMaxScaler\n",
        "\n",
        "# Standard scaling for 'Fare' (2 lines)\n",
        "\n",
        "\n",
        "# Min-Max scaling for 'Age' (2 lines)\n",
        "\n",
        "scaler = StandardScaler()\n",
        "df['Fare'] = scaler.fit_transform(df['Fare'].values.reshape(-1, 1))\n",
        "\n",
        "scaler = MinMaxScaler()\n",
        "df['Age'] = scaler.fit_transform(df['Age'].values.reshape(-1, 1))"
      ],
      "metadata": {
        "id": "k3AaqNXcTaDR"
      },
      "execution_count": 66,
      "outputs": []
    },
    {
      "cell_type": "markdown",
      "source": [
        "# Encoding Categorical Variables"
      ],
      "metadata": {
        "id": "ETtUvmP3Uz1p"
      }
    },
    {
      "cell_type": "code",
      "source": [
        "# One-hot encoding for 'Embarked' and 'Sex' (1 line)\n",
        "df = pd.get_dummies(df, columns=['Embarked', 'Sex'])\n"
      ],
      "metadata": {
        "id": "OxjK9FbhU4oq"
      },
      "execution_count": 67,
      "outputs": []
    }
  ]
}